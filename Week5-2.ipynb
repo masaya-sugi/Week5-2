{
 "cells": [
  {
   "cell_type": "code",
   "execution_count": 1,
   "metadata": {},
   "outputs": [],
   "source": [
    "import folium\n",
    "import pandas as pd\n",
    "from pandas import Series,DataFrame"
   ]
  },
  {
   "cell_type": "code",
   "execution_count": 2,
   "metadata": {},
   "outputs": [
    {
     "data": {
      "text/html": [
       "<div style=\"width:100%;\"><div style=\"position:relative;width:100%;height:0;padding-bottom:60%;\"><iframe src=\"data:text/html;charset=utf-8;base64,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\" style=\"position:absolute;width:100%;height:100%;left:0;top:0;border:none !important;\" allowfullscreen webkitallowfullscreen mozallowfullscreen></iframe></div></div>"
      ],
      "text/plain": [
       "<folium.folium.Map at 0x116cbbdd8>"
      ]
     },
     "execution_count": 2,
     "metadata": {},
     "output_type": "execute_result"
    }
   ],
   "source": [
    "test_map  = folium.Map(\n",
    "    location=[35.681236, 139.75508], \n",
    "    zoom_start=13.5) \n",
    "test_map"
   ]
  },
  {
   "cell_type": "code",
   "execution_count": 3,
   "metadata": {},
   "outputs": [
    {
     "data": {
      "text/html": [
       "<div>\n",
       "<style scoped>\n",
       "    .dataframe tbody tr th:only-of-type {\n",
       "        vertical-align: middle;\n",
       "    }\n",
       "\n",
       "    .dataframe tbody tr th {\n",
       "        vertical-align: top;\n",
       "    }\n",
       "\n",
       "    .dataframe thead th {\n",
       "        text-align: right;\n",
       "    }\n",
       "</style>\n",
       "<table border=\"1\" class=\"dataframe\">\n",
       "  <thead>\n",
       "    <tr style=\"text-align: right;\">\n",
       "      <th></th>\n",
       "      <th>0</th>\n",
       "      <th>1</th>\n",
       "      <th>2</th>\n",
       "    </tr>\n",
       "  </thead>\n",
       "  <tbody>\n",
       "    <tr>\n",
       "      <th>0</th>\n",
       "      <td>日本橋高島屋S.C.店</td>\n",
       "      <td>35.681370</td>\n",
       "      <td>139.773619</td>\n",
       "    </tr>\n",
       "    <tr>\n",
       "      <th>1</th>\n",
       "      <td>東京駅八重洲南口店</td>\n",
       "      <td>35.778150</td>\n",
       "      <td>139.768892</td>\n",
       "    </tr>\n",
       "    <tr>\n",
       "      <th>2</th>\n",
       "      <td>東京駅八重洲北口店</td>\n",
       "      <td>35.682500</td>\n",
       "      <td>139.768892</td>\n",
       "    </tr>\n",
       "    <tr>\n",
       "      <th>3</th>\n",
       "      <td>有楽町ビル1階店</td>\n",
       "      <td>35.674923</td>\n",
       "      <td>139.761827</td>\n",
       "    </tr>\n",
       "    <tr>\n",
       "      <th>4</th>\n",
       "      <td>東京駅日本橋口店</td>\n",
       "      <td>35.683109</td>\n",
       "      <td>139.769121</td>\n",
       "    </tr>\n",
       "    <tr>\n",
       "      <th>5</th>\n",
       "      <td>秋葉原駅前店</td>\n",
       "      <td>35.697823</td>\n",
       "      <td>139.773696</td>\n",
       "    </tr>\n",
       "    <tr>\n",
       "      <th>6</th>\n",
       "      <td>防衛省店</td>\n",
       "      <td>35.693789</td>\n",
       "      <td>139.729129</td>\n",
       "    </tr>\n",
       "    <tr>\n",
       "      <th>7</th>\n",
       "      <td>銀座松屋通り店</td>\n",
       "      <td>35.671691</td>\n",
       "      <td>139.766603</td>\n",
       "    </tr>\n",
       "    <tr>\n",
       "      <th>8</th>\n",
       "      <td>銀座シックス店</td>\n",
       "      <td>35.669650</td>\n",
       "      <td>139.764722</td>\n",
       "    </tr>\n",
       "    <tr>\n",
       "      <th>9</th>\n",
       "      <td>大手町プレイス店</td>\n",
       "      <td>35.686844</td>\n",
       "      <td>139.766833</td>\n",
       "    </tr>\n",
       "    <tr>\n",
       "      <th>10</th>\n",
       "      <td>東京ドームシティ ラクーア店</td>\n",
       "      <td>35.706873</td>\n",
       "      <td>139.752662</td>\n",
       "    </tr>\n",
       "    <tr>\n",
       "      <th>11</th>\n",
       "      <td>アークヒルズサウスタワー店</td>\n",
       "      <td>35.665427</td>\n",
       "      <td>139.739437</td>\n",
       "    </tr>\n",
       "    <tr>\n",
       "      <th>12</th>\n",
       "      <td>Tokyo Midtown Shop</td>\n",
       "      <td>35.665015</td>\n",
       "      <td>139.730772</td>\n",
       "    </tr>\n",
       "  </tbody>\n",
       "</table>\n",
       "</div>"
      ],
      "text/plain": [
       "                     0          1           2\n",
       "0          日本橋高島屋S.C.店  35.681370  139.773619\n",
       "1            東京駅八重洲南口店  35.778150  139.768892\n",
       "2            東京駅八重洲北口店  35.682500  139.768892\n",
       "3             有楽町ビル1階店  35.674923  139.761827\n",
       "4             東京駅日本橋口店  35.683109  139.769121\n",
       "5               秋葉原駅前店  35.697823  139.773696\n",
       "6                 防衛省店  35.693789  139.729129\n",
       "7              銀座松屋通り店  35.671691  139.766603\n",
       "8              銀座シックス店  35.669650  139.764722\n",
       "9             大手町プレイス店  35.686844  139.766833\n",
       "10      東京ドームシティ ラクーア店  35.706873  139.752662\n",
       "11       アークヒルズサウスタワー店  35.665427  139.739437\n",
       "12  Tokyo Midtown Shop  35.665015  139.730772"
      ]
     },
     "execution_count": 3,
     "metadata": {},
     "output_type": "execute_result"
    }
   ],
   "source": [
    "yamanote = pd.read_clipboard(sep=\",\",header=None)\n",
    "\n",
    "yamanote"
   ]
  },
  {
   "cell_type": "code",
   "execution_count": 4,
   "metadata": {},
   "outputs": [
    {
     "name": "stdout",
     "output_type": "stream",
     "text": [
      "13\n"
     ]
    }
   ],
   "source": [
    "yamanote = yamanote.rename(columns={\n",
    "    0:\"shop\", \n",
    "    1:\"lat\", \n",
    "    2:\"long\" \n",
    "})\n",
    "\n",
    "print(len(yamanote))"
   ]
  },
  {
   "cell_type": "code",
   "execution_count": 5,
   "metadata": {},
   "outputs": [
    {
     "data": {
      "text/html": [
       "<div style=\"width:100%;\"><div style=\"position:relative;width:100%;height:0;padding-bottom:60%;\"><iframe src=\"data:text/html;charset=utf-8;base64,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\" style=\"position:absolute;width:100%;height:100%;left:0;top:0;border:none !important;\" allowfullscreen webkitallowfullscreen mozallowfullscreen></iframe></div></div>"
      ],
      "text/plain": [
       "<folium.folium.Map at 0x116cbbdd8>"
      ]
     },
     "execution_count": 5,
     "metadata": {},
     "output_type": "execute_result"
    }
   ],
   "source": [
    "for i in range(13):  \n",
    "    pin = [yamanote[\"lat\"][i], yamanote[\"long\"][i]] \n",
    "    folium.Marker(pin,\n",
    "                  icon=folium.Icon(color=\"darkblue\",\n",
    "                                   icon = \"flag\")).add_to(test_map)\n",
    "    \n",
    "test_map"
   ]
  },
  {
   "cell_type": "markdown",
   "metadata": {},
   "source": [
    "Report"
   ]
  },
  {
   "cell_type": "markdown",
   "metadata": {},
   "source": [
    "My purpose is to decide where is the best area to open a new sshop.\n",
    "From the map, shops are mainly located along the railroad from the north to the south. There are a few shops in the western area.\n",
    "So, I recommed to open in the western area or the area where is apart from the railroad."
   ]
  }
 ],
 "metadata": {
  "kernelspec": {
   "display_name": "Python 3",
   "language": "python",
   "name": "python3"
  },
  "language_info": {
   "codemirror_mode": {
    "name": "ipython",
    "version": 3
   },
   "file_extension": ".py",
   "mimetype": "text/x-python",
   "name": "python",
   "nbconvert_exporter": "python",
   "pygments_lexer": "ipython3",
   "version": "3.7.1"
  }
 },
 "nbformat": 4,
 "nbformat_minor": 2
}
